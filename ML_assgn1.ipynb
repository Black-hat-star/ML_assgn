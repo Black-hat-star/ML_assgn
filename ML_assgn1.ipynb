{
 "cells": [
  {
   "cell_type": "raw",
   "id": "e09f9bce-d6a7-49cb-bf00-67813e3eb702",
   "metadata": {},
   "source": [
    "1)AI:-It is a type of machine model which can do its work without human interb=vention\n",
    "Machine Learning-It is the process by which we provides data ,statistics,analyze and predict the output\n",
    "Deep Learning-It it the subset of ML when the data is humongous then we prefer the use of deep leaning over ml model "
   ]
  },
  {
   "cell_type": "raw",
   "id": "65ba7542-a6c7-4f15-a877-bb09fff641cf",
   "metadata": {},
   "source": [
    "2)Supervised Learning in which we labelled the input features to the machine learninig model to predict the output,it tries to relationship between the input features and predict the output accurately\n",
    "e.gpredicting if a customer will buy an antivirus or not based on prev years data"
   ]
  },
  {
   "cell_type": "raw",
   "id": "2902a87e-3882-4245-ae99-bdcd43674d84",
   "metadata": {},
   "source": [
    "3)UNsupervised ML in which  the data are given in raw forms and the ml model is asked to cluster it and predict the output of it\n",
    "e.g launching of luxury car targets a particular segement of people "
   ]
  },
  {
   "cell_type": "raw",
   "id": "4f08f6e1-aaa2-4b8d-ad4f-5d2326128d3b",
   "metadata": {},
   "source": [
    "4)AI is a model which perform its own task as instructed without human intervention\n",
    "in ml we train different types of model with data to predict its output for a given input\n",
    "in dl when the input data bcomes very large we prefer to use\n",
    "ds is the intersection of all three of them"
   ]
  },
  {
   "cell_type": "raw",
   "id": "b8dadf07-ae87-41d3-87ff-acdfd0efcb2f",
   "metadata": {},
   "source": [
    "5)In supervised ml where the model is trained on a lablelled dataset whereas in unsupervised ml raw data are given as inout whereas in semi supervised model which include both type of input datai.e labelled as well as raw"
   ]
  },
  {
   "cell_type": "raw",
   "id": "e6e1d2c3-6d2b-4eb8-8a81-12ac5e635d5d",
   "metadata": {},
   "source": [
    "6)IN train dataset we train the model with this data set ,in validation dataset we hypertune the model's parametre whereas in test dataset it used to see the accuracy when the \n",
    "data is unknown to the model"
   ]
  },
  {
   "cell_type": "raw",
   "id": "31292f89-606b-45b9-8c08-0b61d01983a2",
   "metadata": {},
   "source": [
    "7)It can be used in anomoly detection because in unsupervised model tge model make cluster of similar data the data which willl be nearly related will be densed in its surroundings\n",
    "whereas which will not be thatmuch related will be present at the less denser place"
   ]
  },
  {
   "cell_type": "raw",
   "id": "0bc3a4df-0b05-4b06-a6b5-6119a8b03d49",
   "metadata": {},
   "source": [
    "8)In supervised ML some of the models aare linear,logistic,supportvector machine,decision trees\n",
    "in unsupervised ml models are k means clustering,hiearchial clustering,DBSCAN,PCA"
   ]
  },
  {
   "cell_type": "code",
   "execution_count": null,
   "id": "4369cc35-a943-401a-84c5-2fe2e346fdee",
   "metadata": {},
   "outputs": [],
   "source": []
  }
 ],
 "metadata": {
  "kernelspec": {
   "display_name": "Python 3 (ipykernel)",
   "language": "python",
   "name": "python3"
  },
  "language_info": {
   "codemirror_mode": {
    "name": "ipython",
    "version": 3
   },
   "file_extension": ".py",
   "mimetype": "text/x-python",
   "name": "python",
   "nbconvert_exporter": "python",
   "pygments_lexer": "ipython3",
   "version": "3.10.8"
  }
 },
 "nbformat": 4,
 "nbformat_minor": 5
}
