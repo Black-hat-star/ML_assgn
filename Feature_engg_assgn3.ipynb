{
 "cells": [
  {
   "cell_type": "raw",
   "id": "ee875a98-eb37-44f0-9257-f5cb202f2622",
   "metadata": {},
   "source": [
    "1)Dataencoding is assigning numerical values to categorical data as it will be difficult for the ml model to understand the catagorical data.\n"
   ]
  },
  {
   "cell_type": "raw",
   "id": "ceb713ba-d876-4803-ac98-d944cf7ec2bf",
   "metadata": {},
   "source": [
    "2)Nominal encoding, also known as one-hot encoding or dummy encoding, is a technique used in data preprocessing to represent categorical variables with no inherent order or ranking. In nominal encoding, each unique category is converted into a binary vector where each bit represents the presence or absence of a particular category. This helps machine learning models understand and properly utilize categorical information.\n",
    "e.gCategorical Variable \"Color\"\n",
    "\n",
    "Identify Categorical Variable:\n",
    "\n",
    "Recognize that \"Color\" is a categorical variable.\n",
    "Apply Nominal Encoding:\n",
    "\n",
    "Create binary columns for each unique category (Red, Green, Blue).\n",
    "Assign a value of 1 if the example belongs to that category, and 0 otherwise.\n",
    "\n",
    "Real-World Scenario:\n",
    "\n",
    "Consider a dataset with a \"Vehicle Type\" categorical variable containing values such as \"Car,\" \"Truck,\" and \"Motorcycle.\" Nominal encoding can be applied to represent these categories as binary vectors"
   ]
  },
  {
   "cell_type": "raw",
   "id": "17f0d1ee-28e6-4200-a748-3586dbc731a2",
   "metadata": {},
   "source": [
    "3)In practice, \"nominal encoding\" or \"one-hot encoding\" both refer to the same technique where each category is represented by a binary column, and the presence or absence of each category is indicated by a binary value (1 or 0).\n",
    "\n",
    "\n",
    "No Inherent Order:\n",
    "\n",
    "Use nominal encoding when the categories of the variable have no inherent order or ranking. For example, colors (Red, Green, Blue) or vehicle types (Car, Truck, Motorcycle) have no natural order.\n",
    "Avoiding Misinterpretation:\n",
    "\n",
    "Nominal encoding is preferred when using a numerical representation might mislead the model by implying an order that does not exist. For instance, encoding colors as integers (1 for Red, 2 for Green, 3 for Blue) could mistakenly imply an order.\n",
    "Categorical Variables with Low Cardinality:\n",
    "\n",
    "Nominal encoding is often suitable for categorical variables with a relatively low number of unique categories. When dealing with high cardinality variables, other techniques like feature hashing or embedding might be considered.\n",
    "\n",
    "\n",
    "\n"
   ]
  },
  {
   "cell_type": "raw",
   "id": "46fdc4de-1d42-4b39-8077-efd0dab30680",
   "metadata": {},
   "source": [
    "4)The choice of encoding technique for categorical data with 5 unique values depends on the nature of the data and the specific requirements of the machine learning algorithm. The two common encoding techniques for categorical data are one-hot encoding (nominal encoding) and ordinal encoding. Here's a brief explanation of each and when you might prefer one over the other:\n",
    "\n",
    "One-Hot Encoding (Nominal Encoding):\n",
    "\n",
    "Representation: Each unique category is represented by a binary column.\n",
    "Usage: Suitable for categorical variables with no inherent order or ranking (nominal data).\n",
    "Example: Colors (Red, Green, Blue) or Country Names (USA, Canada, Japan).\n",
    "Advantages: Preserves the independence of categories, and it's suitable when there is no ordinal relationship among the categories.\n",
    "Ordinal Encoding:\n",
    "\n",
    "Representation: Assigns a unique integer to each category based on a predefined order.\n",
    "Usage: Appropriate when there is an ordinal relationship among the categories.\n",
    "Example: Education Level (High School, Bachelor's, Master's, PhD).\n",
    "Advantages: Preserves ordinal information, and it might be useful for algorithms that can benefit from knowing the order of categories.\n",
    "Choice Based on Dataset:\n",
    "If your categorical data has 5 unique values and there is no inherent order or ranking among them, it's typically a good choice to use one-hot encoding (nominal encoding). This ensures that the machine learning algorithm does not incorrectly interpret any ordinal relationship among the categories.\n",
    "\n",
    "Example: Color of Fruits\n",
    "Consider a dataset with a categorical variable \"Fruit Color\" having values \"Red,\" \"Green,\" \"Blue,\" \"Yellow,\" and \"Orange.\""
   ]
  },
  {
   "cell_type": "raw",
   "id": "13b2b0ba-202f-4bbe-9e0f-473d57c33d4f",
   "metadata": {},
   "source": [
    "5)In nominal encoding, also known as one-hot encoding, each unique category in a categorical column is represented by a binary column. The number of new columns created is equal to the number of unique categories in all the categorical columns combined."
   ]
  },
  {
   "cell_type": "raw",
   "id": "bb65ed22-76ff-49cd-b974-de2d950f01b1",
   "metadata": {},
   "source": [
    "6)Nominal Encoding (One-Hot Encoding):\n",
    "\n",
    "Justification:\n",
    "Nominal encoding, also known as one-hot encoding, is suitable when dealing with categorical variables with no inherent order or ranking. This is the case when considering animal species, habitat, and diet.\n",
    "Each unique category (species, habitat, or diet) can be represented by a binary column, indicating the presence or absence of that category for each animal."
   ]
  },
  {
   "cell_type": "raw",
   "id": "20d2237a-b1c4-4577-9889-bd7212641fb3",
   "metadata": {},
   "source": [
    "7)One-Hot Encoding:\n",
    "\n",
    "Gender Column:\n",
    "Create two binary columns, one for \"Male\" and one for \"Female.\" Assign a value of 1 if the customer is of that gender and 0 otherwise.\n",
    "Contract Type Column:\n",
    "Create three binary columns, one for \"Monthly,\" one for \"One Year,\" and one for \"Two Year.\" Assign a value of 1 if the customer has that contract type and 0 otherwise.\n",
    "Target Encoding (Churn Column):\n",
    "\n",
    "If your prediction task involves predicting customer churn, you need to encode the \"Churn\" column (assuming it's the target variable). You can encode it as binary values, such as 0 for \"No\" and 1 for \"Yes.\""
   ]
  },
  {
   "cell_type": "code",
   "execution_count": 1,
   "id": "75e8fa53-e4f7-4381-9e0d-8a5eda3a0244",
   "metadata": {},
   "outputs": [
    {
     "name": "stdout",
     "output_type": "stream",
     "text": [
      "   Age  Monthly Charges  Tenure  Churn  Gender_Male  Contract Type_One Year  \\\n",
      "0   30             50.0       5      0            1                       0   \n",
      "1   45             70.0      15      1            0                       1   \n",
      "2   25             60.0       8      0            1                       0   \n",
      "3   35             55.0      12      0            0                       0   \n",
      "4   50             80.0      20      1            1                       1   \n",
      "\n",
      "   Contract Type_Two Year  \n",
      "0                       0  \n",
      "1                       0  \n",
      "2                       1  \n",
      "3                       0  \n",
      "4                       0  \n"
     ]
    }
   ],
   "source": [
    "import pandas as pd\n",
    "\n",
    "# Sample dataset\n",
    "data = {\n",
    "    'Gender': ['Male', 'Female', 'Male', 'Female', 'Male'],\n",
    "    'Contract Type': ['Monthly', 'One Year', 'Two Year', 'Monthly', 'One Year'],\n",
    "    'Age': [30, 45, 25, 35, 50],\n",
    "    'Monthly Charges': [50.0, 70.0, 60.0, 55.0, 80.0],\n",
    "    'Tenure': [5, 15, 8, 12, 20],\n",
    "    'Churn': ['No', 'Yes', 'No', 'No', 'Yes']\n",
    "}\n",
    "\n",
    "df = pd.DataFrame(data)\n",
    "\n",
    "# One-Hot Encoding\n",
    "df_encoded = pd.get_dummies(df, columns=['Gender', 'Contract Type'], drop_first=True)\n",
    "\n",
    "# Target Encoding\n",
    "df_encoded['Churn'] = df['Churn'].map({'No': 0, 'Yes': 1})\n",
    "\n",
    "# Display the encoded DataFrame\n",
    "print(df_encoded)\n"
   ]
  },
  {
   "cell_type": "code",
   "execution_count": null,
   "id": "c3f71a26-68db-4b88-bee3-8b2dbcca9438",
   "metadata": {},
   "outputs": [],
   "source": []
  }
 ],
 "metadata": {
  "kernelspec": {
   "display_name": "Python 3 (ipykernel)",
   "language": "python",
   "name": "python3"
  },
  "language_info": {
   "codemirror_mode": {
    "name": "ipython",
    "version": 3
   },
   "file_extension": ".py",
   "mimetype": "text/x-python",
   "name": "python",
   "nbconvert_exporter": "python",
   "pygments_lexer": "ipython3",
   "version": "3.10.8"
  }
 },
 "nbformat": 4,
 "nbformat_minor": 5
}
